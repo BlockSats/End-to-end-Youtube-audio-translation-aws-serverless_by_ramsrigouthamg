{
 "cells": [
  {
   "cell_type": "markdown",
   "metadata": {},
   "source": [
    "# Step1 - Download Youtube Video and separate audio file\n"
   ]
  },
  {
   "cell_type": "code",
   "execution_count": 1,
   "metadata": {},
   "outputs": [
    {
     "name": "stdout",
     "output_type": "stream",
     "text": [
      "Enter a youtube url to be translated. Note: Video should be < 20 mins in duration. https://youtu.be/UzZFdEY4vJ0\n",
      "UzZFdEY4vJ0_ef21aeae-931f-455c-872f-dbee486091cf__en-US__zh.mp4\n",
      "Finished downloading UzZFdEY4vJ0_ef21aeae-931f-455c-872f-dbee486091cf__en-US__zh.mp4\n",
      "[MoviePy] Writing audio in UzZFdEY4vJ0_ef21aeae-931f-455c-872f-dbee486091cf__en-US__zh.wav\n"
     ]
    },
    {
     "name": "stderr",
     "output_type": "stream",
     "text": [
      "100%|██████████████████████████████████████████████████████████████████████████████| 783/783 [00:00<00:00, 2596.70it/s]\n"
     ]
    },
    {
     "name": "stdout",
     "output_type": "stream",
     "text": [
      "[MoviePy] Done.\n",
      "Finished converting to audio UzZFdEY4vJ0_ef21aeae-931f-455c-872f-dbee486091cf__en-US__zh.wav\n"
     ]
    }
   ],
   "source": [
    "# pip install pytube\n",
    "# pip install moviepy\n",
    "# conda install -c menpo ffmpeg \n",
    "import uuid\n",
    "from pytube import YouTube\n",
    "from moviepy.editor import VideoFileClip\n",
    "from urllib.parse import urlparse, parse_qs\n",
    "import os\n",
    "\n",
    "# Test url Video - https://youtu.be/UzZFdEY4vJ0\n",
    "youtube_url = input(\"Enter a youtube url to be translated. Note: Video should be < 20 mins in duration. \")\n",
    "# Allowed  code for original language: 'en-US' (English USA) and  'es-US' (Spanish USA)\n",
    "original_language_code = 'en-US'\n",
    "# Allowed codes : en - English, es - Spanish, zh - Chinese, fr - French, ru - Russian , de - German , it - italian, \n",
    "# tr - Turkish, ja - Japanese, pt - Portugese\n",
    "translated_language_code = 'zh'        \n",
    "                                       \n",
    "\n",
    "def get_id(url):\n",
    "    u_pars = urlparse(url)\n",
    "    quer_v = parse_qs(u_pars.query).get('v')\n",
    "    if quer_v:\n",
    "        return quer_v[0]\n",
    "    pth = u_pars.path.split('/')\n",
    "    if pth:\n",
    "        return pth[-1]\n",
    "    \n",
    "youtube_id = get_id(youtube_url)\n",
    "youtube_filename = \"%s_%s__%s__%s.mp4\"%(youtube_id,str(uuid.uuid4()),original_language_code,translated_language_code)\n",
    "print (youtube_filename)\n",
    "\n",
    "def download_video(url):   \n",
    "    if not os.path.isfile(youtube_filename):\n",
    "        yt = YouTube(youtube_url)\n",
    "        yt.streams.first().download(filename=youtube_filename.split('.')[0])\n",
    "    return youtube_filename\n",
    "\n",
    "video_filename = download_video(youtube_url)\n",
    "print (\"Finished downloading %s\"%(video_filename))\n",
    "audio_file_name = video_filename.replace(\".mp4\",\".wav\")\n",
    "videoclip = VideoFileClip(video_filename)\n",
    "if not os.path.isfile(audio_file_name):\n",
    "    videoclip.audio.write_audiofile(audio_file_name,ffmpeg_params=['-ac','1'])\n",
    "    \n",
    "print (\"Finished converting to audio %s\"%(audio_file_name))"
   ]
  },
  {
   "cell_type": "markdown",
   "metadata": {},
   "source": [
    "# Step2 -  Upload audio file to S3 (Once uploaded - Lambda trigger generates transcription from S3 bucket)"
   ]
  },
  {
   "cell_type": "code",
   "execution_count": 2,
   "metadata": {},
   "outputs": [],
   "source": [
    "import csv\n",
    "# credentials\n",
    "access_key_id =''\n",
    "secret_access_key =''\n",
    "with open('video_translate_credentials.csv', 'r') as csvfile:\n",
    "    spamreader = csv.DictReader(csvfile, delimiter=',')\n",
    "    row2 = next(spamreader)\n",
    "    access_key_id = (row2['Access key ID'])\n",
    "    secret_access_key = (row2['Secret access key'])\n",
    "    \n",
    "    "
   ]
  },
  {
   "cell_type": "code",
   "execution_count": 3,
   "metadata": {},
   "outputs": [
    {
     "name": "stdout",
     "output_type": "stream",
     "text": [
      "Uploading file .....   UzZFdEY4vJ0_ef21aeae-931f-455c-872f-dbee486091cf__en-US__zh.wav  to S3\n",
      "Finished Uploading file .....   UzZFdEY4vJ0_ef21aeae-931f-455c-872f-dbee486091cf__en-US__zh.wav to S3\n"
     ]
    }
   ],
   "source": [
    "import boto3 \n",
    "from botocore.exceptions import ClientError\n",
    "# Upload audio file to S3 server if it doesn't exist already\n",
    "s3 = boto3.client(\"s3\",\n",
    "                        aws_access_key_id=access_key_id,\n",
    "                        aws_secret_access_key=secret_access_key,\n",
    "                        region_name='us-east-1')\n",
    "bucket_name = \"video-translation\"\n",
    "\n",
    "\n",
    "def file_exists(s3, bucket, key):\n",
    "    try:\n",
    "        s3.head_object(Bucket=bucket, Key=key)\n",
    "    except ClientError as e:\n",
    "        return int(e.response['Error']['Code']) != 404\n",
    "    return True\n",
    "\n",
    "if file_exists(s3, bucket_name, audio_file_name):\n",
    "    print (audio_file_name,\" already exists in bucket: \",bucket_name)\n",
    "else:\n",
    "    print (\"Uploading file .....  \",audio_file_name, \" to S3\")\n",
    "    s3.upload_file(audio_file_name, bucket_name, audio_file_name)\n",
    "    print (\"Finished Uploading file .....  \",audio_file_name, \"to S3\" )"
   ]
  },
  {
   "cell_type": "markdown",
   "metadata": {},
   "source": [
    "# Step3 - Check Transcription Status"
   ]
  },
  {
   "cell_type": "code",
   "execution_count": 4,
   "metadata": {},
   "outputs": [
    {
     "name": "stdout",
     "output_type": "stream",
     "text": [
      "UzZFdEY4vJ0_ef21aeae-931f-455c-872f-dbee486091cf__en-US__zh\n",
      "Transcription not ready yet...\n",
      "Transcription not ready yet...\n",
      "Transcription not ready yet...\n",
      "Transcription not ready yet...\n",
      "Transcription not ready yet...\n",
      "Transcription not ready yet...\n",
      "Transcription not ready yet...\n",
      "Transcription not ready yet...\n",
      "Transcription not ready yet...\n",
      "Transcription not ready yet...\n",
      "Transcription not ready yet...\n",
      "Transcription not ready yet...\n",
      "Transcription not ready yet...\n",
      "Transcription not ready yet...\n",
      "Transcription not ready yet...\n",
      "Job status:  COMPLETED\n"
     ]
    }
   ],
   "source": [
    "import time\n",
    "time.sleep(5)\n",
    "job_name = str(audio_file_name.split('.')[0])\n",
    "print (job_name)\n",
    "transcribe = boto3.client('transcribe',\n",
    "                     aws_access_key_id=access_key_id,\n",
    "                    aws_secret_access_key=secret_access_key,\n",
    "                    region_name='us-east-1')\n",
    "while True:\n",
    "    status = transcribe.get_transcription_job(TranscriptionJobName=job_name)\n",
    "    if status['TranscriptionJob']['TranscriptionJobStatus'] in ['COMPLETED', 'FAILED']:\n",
    "        break\n",
    "    print(\"Transcription not ready yet...\")\n",
    "    time.sleep(5)\n",
    "print(\"Job status: \",status['TranscriptionJob']['TranscriptionJobStatus'])"
   ]
  },
  {
   "cell_type": "markdown",
   "metadata": {},
   "source": [
    "# Step4 - Download subtitle file from S3 (Once transcription is ready a new Lambda is triggered to generate subtitle file)"
   ]
  },
  {
   "cell_type": "code",
   "execution_count": 5,
   "metadata": {},
   "outputs": [
    {
     "name": "stdout",
     "output_type": "stream",
     "text": [
      "UzZFdEY4vJ0_ef21aeae-931f-455c-872f-dbee486091cf__en-US__zh_translated.srt\n",
      "Translated Subtitle file exists\n"
     ]
    }
   ],
   "source": [
    "translated_srt_filename = youtube_filename.replace(\".mp4\",\"_translated.srt\")\n",
    "original_srt_filename = youtube_filename.replace(\".mp4\",\"_original.srt\")\n",
    "translated_bucket_name = \"video-translation-output-translated-srt\"\n",
    "original_srt_bucket_name = \"video-translation-output-original-srt\"\n",
    "print (translated_srt_filename)\n",
    "while True:\n",
    "    if file_exists(s3, translated_bucket_name, translated_srt_filename):\n",
    "        print (\"Translated Subtitle file exists\")\n",
    "        break\n",
    "    print(\"Translated Subtitle file not ready yet...\")\n",
    "    time.sleep(5)\n",
    "    \n",
    "s3.download_file(translated_bucket_name,translated_srt_filename, translated_srt_filename)\n",
    "s3.download_file(original_srt_bucket_name,original_srt_filename, original_srt_filename)"
   ]
  },
  {
   "cell_type": "markdown",
   "metadata": {},
   "source": [
    "# Step5 - Download final audio file  (Once subtitle file is ready a new Lambda is triggered to generate final audio file)"
   ]
  },
  {
   "cell_type": "code",
   "execution_count": 6,
   "metadata": {},
   "outputs": [
    {
     "name": "stdout",
     "output_type": "stream",
     "text": [
      "UzZFdEY4vJ0_ef21aeae-931f-455c-872f-dbee486091cf__en-US__zh_final.wav\n",
      "final audio file not ready yet...\n",
      "final audio file exists\n"
     ]
    }
   ],
   "source": [
    "final_audio_name = youtube_filename.replace(\".mp4\",\"_final.wav\")\n",
    "audio_bucket_name = \"video-translation-final-audio-output\"\n",
    "print (final_audio_name)\n",
    "while True:\n",
    "    if file_exists(s3, audio_bucket_name, final_audio_name):\n",
    "        print (\"final audio file exists\")\n",
    "        break\n",
    "    print(\"final audio file not ready yet...\")\n",
    "    time.sleep(5)\n",
    "    \n",
    "s3.download_file(audio_bucket_name,final_audio_name, final_audio_name)"
   ]
  },
  {
   "cell_type": "markdown",
   "metadata": {},
   "source": [
    "# Step6 - Stitch the downloaded audio file(translated) to the original video"
   ]
  },
  {
   "cell_type": "code",
   "execution_count": 7,
   "metadata": {},
   "outputs": [
    {
     "name": "stdout",
     "output_type": "stream",
     "text": [
      "[MoviePy] >>>> Building video UzZFdEY4vJ0_ef21aeae-931f-455c-872f-dbee486091cf__en-US__zh_translated.mp4\n",
      "[MoviePy] Writing audio in UzZFdEY4vJ0_ef21aeae-931f-455c-872f-dbee486091cf__en-US__zh_translatedTEMP_MPY_wvf_snd.mp3\n"
     ]
    },
    {
     "name": "stderr",
     "output_type": "stream",
     "text": [
      "100%|██████████████████████████████████████████████████████████████████████████████| 783/783 [00:00<00:00, 1367.55it/s]\n"
     ]
    },
    {
     "name": "stdout",
     "output_type": "stream",
     "text": [
      "[MoviePy] Done.\n",
      "[MoviePy] Writing video UzZFdEY4vJ0_ef21aeae-931f-455c-872f-dbee486091cf__en-US__zh_translated.mp4\n"
     ]
    },
    {
     "name": "stderr",
     "output_type": "stream",
     "text": [
      "100%|███████████████████████████████████████████████████████████████████████████████▊| 426/427 [00:09<00:00, 44.73it/s]\n"
     ]
    },
    {
     "name": "stdout",
     "output_type": "stream",
     "text": [
      "[MoviePy] Done.\n",
      "[MoviePy] >>>> Video ready: UzZFdEY4vJ0_ef21aeae-931f-455c-872f-dbee486091cf__en-US__zh_translated.mp4 \n",
      "\n"
     ]
    }
   ],
   "source": [
    "# Attach translated speech to original file\n",
    "from moviepy.audio.io.AudioFileClip import AudioFileClip\n",
    "videoclip = VideoFileClip(youtube_filename)\n",
    "translated_audio = AudioFileClip(final_audio_name)\n",
    "new_clip = videoclip.set_audio(translated_audio)\n",
    "translated_video = youtube_filename.replace(\".mp4\",\"_translated.mp4\")\n",
    "new_clip.write_videofile(translated_video)"
   ]
  },
  {
   "cell_type": "code",
   "execution_count": null,
   "metadata": {},
   "outputs": [],
   "source": []
  }
 ],
 "metadata": {
  "kernelspec": {
   "display_name": "Python [conda env:aws-hackathon]",
   "language": "python",
   "name": "conda-env-aws-hackathon-py"
  },
  "language_info": {
   "codemirror_mode": {
    "name": "ipython",
    "version": 3
   },
   "file_extension": ".py",
   "mimetype": "text/x-python",
   "name": "python",
   "nbconvert_exporter": "python",
   "pygments_lexer": "ipython3",
   "version": "3.7.0"
  }
 },
 "nbformat": 4,
 "nbformat_minor": 2
}
